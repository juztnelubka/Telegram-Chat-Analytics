{
 "cells": [
  {
   "cell_type": "code",
   "execution_count": 52,
   "source": [
    "\r\n",
    "import json\r\n",
    "import pandas as pd\r\n",
    "import matplotlib.pyplot as plt\r\n",
    "import numpy as np\r\n",
    "import datetime\r\n",
    "import seaborn as sns\r\n",
    "plt.style.use('seaborn-darkgrid')"
   ],
   "outputs": [],
   "metadata": {
    "collapsed": true,
    "pycharm": {
     "is_executing": false
    }
   }
  },
  {
   "cell_type": "code",
   "execution_count": 17,
   "source": [
    "with open('result.json', 'r', encoding='utf-8') as input_file: # result.json is exported telegram file\r\n",
    "    x = json.load(input_file)\r\n",
    "    "
   ],
   "outputs": [],
   "metadata": {
    "collapsed": false,
    "pycharm": {
     "name": "#%%\n",
     "is_executing": false
    }
   }
  },
  {
   "cell_type": "code",
   "execution_count": null,
   "source": [],
   "outputs": [],
   "metadata": {}
  },
  {
   "cell_type": "code",
   "execution_count": 18,
   "source": [
    "def get_data(input_file):\r\n",
    "    global data\r\n",
    "    data = x.get('messages')\r\n",
    "    data = pd.DataFrame(data)\r\n",
    "   \r\n",
    "    key_list = ['id', 'type', 'date', 'from', 'text',\r\n",
    "           'media_type', 'mime_type', 'duration_seconds', \r\n",
    "           'sticker_emoji', 'photo', 'edited', 'reply_to_message_id',\r\n",
    "          'forwarded_from',]\r\n",
    "    data = data[key_list]\r\n",
    "    \r\n",
    "    \r\n"
   ],
   "outputs": [],
   "metadata": {
    "collapsed": false,
    "pycharm": {
     "name": "#%%\n",
     "is_executing": false
    }
   }
  },
  {
   "cell_type": "code",
   "execution_count": 19,
   "source": [
    "get_data(x)"
   ],
   "outputs": [],
   "metadata": {
    "collapsed": false,
    "pycharm": {
     "name": "#%%\n",
     "is_executing": false
    }
   }
  },
  {
   "cell_type": "code",
   "execution_count": 20,
   "source": [
    "data_voice_length_stat = data.copy()\r\n",
    "data_from = data_voice_length_stat.groupby('from')\r\n",
    "msg_count = data_from['id'].count() # количество всех сообщений\r\n",
    "avg_voice_length = data_from['duration_seconds'].mean()\r\n",
    "\r\n",
    "\r\n",
    "data_voice = data[data['media_type'] == 'voice_message']\r\n",
    "data_voice = data_voice[['id', 'from', 'duration_seconds', 'date']]\r\n",
    "voice_data_from = data_voice.groupby('from')\r\n",
    "voice_msg_count = voice_data_from['id'].count()\r\n",
    "\r\n",
    "\r\n",
    "print('Количество сообщений', msg_count) \r\n",
    "print('---------------------------------')\r\n",
    "print('Cредняя длина голосовых сообщений', avg_voice_length)\r\n",
    "print('---------------------------------')\r\n",
    "print('Количество голосовых сообщений', voice_msg_count)"
   ],
   "outputs": [
    {
     "output_type": "stream",
     "name": "stdout",
     "text": [
      "Количество сообщений from\n",
      "Danila         12027\n",
      "Бриена Тард    21072\n",
      "Name: id, dtype: int64\n",
      "---------------------------------\n",
      "Cредняя длина голосовых сообщений from\n",
      "Danila         16.356358\n",
      "Бриена Тард    36.634403\n",
      "Name: duration_seconds, dtype: float64\n",
      "---------------------------------\n",
      "Количество голосовых сообщений from\n",
      "Danila         7109\n",
      "Бриена Тард    9789\n",
      "Name: id, dtype: int64\n"
     ]
    }
   ],
   "metadata": {
    "collapsed": false,
    "pycharm": {
     "name": "#%%\n",
     "is_executing": false
    }
   }
  },
  {
   "cell_type": "code",
   "execution_count": 21,
   "source": [
    "def msg_count_graph():\r\n",
    "    percentages = [round(100 * msg_count[0] / (msg_count[0] + msg_count[1]),1), round(100 * msg_count[1] / (msg_count[0] + msg_count[1]), 1)]\r\n",
    "    names = ['{}, ({}, {}%)'.format(msg_count.index.values[0], str(msg_count[0]), percentages[0]), '{}, ({}, {}%)'.format(msg_count.index.values[1], str(msg_count[1]), percentages[1])]\r\n",
    "    plt.rcParams['text.color'] = '#808080'\r\n",
    "    plt.pie(msg_count, labels=names)\r\n",
    "    plt.title('Количество всех сообщений', fontweight=\"bold\", color=\"#808080\")\r\n",
    "    plt.show()\r\n",
    "    \r\n",
    "def voice_msg_count_graph():\r\n",
    "    percentages = [round(100 * voice_msg_count[0] / (voice_msg_count[0] + voice_msg_count[1]),1), round(100 * voice_msg_count[1] / (voice_msg_count[0] + voice_msg_count[1]), 1)]\r\n",
    "    names = ['{}, ({}, {}%)'.format(voice_msg_count.index.values[0], str(voice_msg_count[0]), percentages[0]), '{}, ({}, {}%)'.format(voice_msg_count.index.values[1], str(voice_msg_count[1]), percentages[1])]\r\n",
    "    plt.rcParams['text.color'] = '#808080'\r\n",
    "    plt.pie(voice_msg_count, labels=names)\r\n",
    "    plt.title('Количество всех голосовых сообщений', fontweight=\"bold\", color=\"#808080\")\r\n",
    "    plt.show()\r\n",
    "    \r\n",
    "def avg_voice_length_graph():\r\n",
    "    names = ['{}, ({})'.format(avg_voice_length.index.values[0], str(round(avg_voice_length[0], 1))),'{}, ({})'.format(avg_voice_length.index.values[1], str(round(avg_voice_length[1],1)))]\r\n",
    "    plt.rcParams['text.color'] = '#808080'\r\n",
    "    height = [round(avg_voice_length[0], 1), round(avg_voice_length[1], 1)]\r\n",
    "    plt.bar(names,height, ec=\"black\")\r\n",
    "    plt.title('Средняя длина голосовых сообщений', fontweight=\"bold\", color=\"#808080\")\r\n",
    "    plt.show()\r\n",
    "   \r\n",
    "    "
   ],
   "outputs": [],
   "metadata": {
    "collapsed": false,
    "pycharm": {
     "name": "#%%\n",
     "is_executing": false
    }
   }
  },
  {
   "cell_type": "code",
   "execution_count": 22,
   "source": [
    "msg_count_graph()\r\n",
    "avg_voice_length_graph()\r\n",
    "voice_msg_count_graph()\r\n",
    "\r\n"
   ],
   "outputs": [
    {
     "output_type": "display_data",
     "data": {
      "image/png": "[encoded data removed]",
      "text/plain": [
       "<Figure size 432x288 with 1 Axes>"
      ]
     },
     "metadata": {}
    },
    {
     "output_type": "display_data",
     "data": {
      "image/png": "[encoded data removed]",
      "text/plain": [
       "<Figure size 432x288 with 1 Axes>"
      ]
     },
     "metadata": {}
    },
    {
     "output_type": "display_data",
     "data": {
      "image/png": "[encoded data removed]",
      "text/plain": [
       "<Figure size 432x288 with 1 Axes>"
      ]
     },
     "metadata": {}
    }
   ],
   "metadata": {
    "collapsed": false,
    "pycharm": {
     "name": "#%%\n",
     "is_executing": false
    }
   }
  },
  {
   "cell_type": "code",
   "execution_count": 23,
   "source": [
    "def transform(data):\r\n",
    "    data['modified_date'] = data['date']\r\n",
    "    data['modified_date'] = pd.to_datetime(data['date']).dt.date\r\n",
    "    data['modified_time'] = pd.to_datetime(data['date']).dt.time\r\n",
    "    data['month_year'] = pd.to_datetime(data['date']).dt.to_period('M')\r\n",
    "    return data\r\n",
    "\r\n",
    "data = transform(data)\r\n"
   ],
   "outputs": [],
   "metadata": {}
  },
  {
   "cell_type": "code",
   "execution_count": 75,
   "source": [
    "def seperated_messages(data, user_1, user_2, method): # modified_date or month_year #добавить проценты изменения\r\n",
    "    \r\n",
    "    user_1_table = data.loc[data['from'] == user_1]\r\n",
    "    user_1_table = pd.DataFrame(user_1_table.groupby(by=method).size())\r\n",
    "    user_2_table = data.loc[data['from'] == user_2]\r\n",
    "    user_2_table = pd.DataFrame(user_2_table.groupby(by=method).size())\r\n",
    "    result = pd.concat([user_1_table, user_2_table], axis=1)\r\n",
    "    result.columns = [user_1,user_2]\r\n",
    "    result = result.replace(np.nan, 0.0)\r\n",
    "    result.sort_values(by=method, inplace=True)\r\n",
    "    result['sum'] = result[user_1] + result[user_2]\r\n",
    "    result['growth_rate'] = result['sum'].pct_change().round(2)\r\n",
    "    return result[[user_1, user_2, 'growth_rate']] \r\n",
    "pd.set_option('display.max_rows', 58)\r\n",
    "seperated_messages = seperated_messages(data, 'Danila', 'Бриена Тард', 'month_year')\r\n",
    "seperated_messages\r\n"
   ],
   "outputs": [
    {
     "output_type": "execute_result",
     "data": {
      "text/html": [
       "<div>\n",
       "<style scoped>\n",
       "    .dataframe tbody tr th:only-of-type {\n",
       "        vertical-align: middle;\n",
       "    }\n",
       "\n",
       "    .dataframe tbody tr th {\n",
       "        vertical-align: top;\n",
       "    }\n",
       "\n",
       "    .dataframe thead th {\n",
       "        text-align: right;\n",
       "    }\n",
       "</style>\n",
       "<table border=\"1\" class=\"dataframe\">\n",
       "  <thead>\n",
       "    <tr style=\"text-align: right;\">\n",
       "      <th></th>\n",
       "      <th>Danila</th>\n",
       "      <th>Бриена Тард</th>\n",
       "      <th>growth_rate</th>\n",
       "    </tr>\n",
       "    <tr>\n",
       "      <th>month_year</th>\n",
       "      <th></th>\n",
       "      <th></th>\n",
       "      <th></th>\n",
       "    </tr>\n",
       "  </thead>\n",
       "  <tbody>\n",
       "    <tr>\n",
       "      <th>2020-07</th>\n",
       "      <td>1170</td>\n",
       "      <td>1937</td>\n",
       "      <td>NaN</td>\n",
       "    </tr>\n",
       "    <tr>\n",
       "      <th>2020-08</th>\n",
       "      <td>1224</td>\n",
       "      <td>2114</td>\n",
       "      <td>0.07</td>\n",
       "    </tr>\n",
       "    <tr>\n",
       "      <th>2020-09</th>\n",
       "      <td>1298</td>\n",
       "      <td>2109</td>\n",
       "      <td>0.02</td>\n",
       "    </tr>\n",
       "    <tr>\n",
       "      <th>2020-10</th>\n",
       "      <td>1126</td>\n",
       "      <td>1916</td>\n",
       "      <td>-0.11</td>\n",
       "    </tr>\n",
       "    <tr>\n",
       "      <th>2020-11</th>\n",
       "      <td>992</td>\n",
       "      <td>1720</td>\n",
       "      <td>-0.11</td>\n",
       "    </tr>\n",
       "    <tr>\n",
       "      <th>2020-12</th>\n",
       "      <td>1345</td>\n",
       "      <td>2320</td>\n",
       "      <td>0.35</td>\n",
       "    </tr>\n",
       "    <tr>\n",
       "      <th>2021-01</th>\n",
       "      <td>966</td>\n",
       "      <td>1623</td>\n",
       "      <td>-0.29</td>\n",
       "    </tr>\n",
       "    <tr>\n",
       "      <th>2021-02</th>\n",
       "      <td>599</td>\n",
       "      <td>1310</td>\n",
       "      <td>-0.26</td>\n",
       "    </tr>\n",
       "    <tr>\n",
       "      <th>2021-03</th>\n",
       "      <td>749</td>\n",
       "      <td>1469</td>\n",
       "      <td>0.16</td>\n",
       "    </tr>\n",
       "    <tr>\n",
       "      <th>2021-04</th>\n",
       "      <td>730</td>\n",
       "      <td>1385</td>\n",
       "      <td>-0.05</td>\n",
       "    </tr>\n",
       "    <tr>\n",
       "      <th>2021-05</th>\n",
       "      <td>702</td>\n",
       "      <td>1260</td>\n",
       "      <td>-0.07</td>\n",
       "    </tr>\n",
       "    <tr>\n",
       "      <th>2021-06</th>\n",
       "      <td>766</td>\n",
       "      <td>1209</td>\n",
       "      <td>0.01</td>\n",
       "    </tr>\n",
       "    <tr>\n",
       "      <th>2021-07</th>\n",
       "      <td>360</td>\n",
       "      <td>700</td>\n",
       "      <td>-0.46</td>\n",
       "    </tr>\n",
       "  </tbody>\n",
       "</table>\n",
       "</div>"
      ],
      "text/plain": [
       "            Danila  Бриена Тард  growth_rate\n",
       "month_year                                  \n",
       "2020-07       1170         1937          NaN\n",
       "2020-08       1224         2114         0.07\n",
       "2020-09       1298         2109         0.02\n",
       "2020-10       1126         1916        -0.11\n",
       "2020-11        992         1720        -0.11\n",
       "2020-12       1345         2320         0.35\n",
       "2021-01        966         1623        -0.29\n",
       "2021-02        599         1310        -0.26\n",
       "2021-03        749         1469         0.16\n",
       "2021-04        730         1385        -0.05\n",
       "2021-05        702         1260        -0.07\n",
       "2021-06        766         1209         0.01\n",
       "2021-07        360          700        -0.46"
      ]
     },
     "metadata": {},
     "execution_count": 75
    }
   ],
   "metadata": {
    "collapsed": false,
    "pycharm": {
     "name": "#%%\n",
     "is_executing": false
    }
   }
  },
  {
   "cell_type": "code",
   "execution_count": 77,
   "source": [
    "seperated_messages[['Danila', 'Бриена Тард']].plot()"
   ],
   "outputs": [
    {
     "output_type": "execute_result",
     "data": {
      "text/plain": [
       "<AxesSubplot:xlabel='month_year'>"
      ]
     },
     "metadata": {},
     "execution_count": 77
    },
    {
     "output_type": "display_data",
     "data": {
      "image/png": "[encoded data removed]",
      "text/plain": [
       "<Figure size 432x288 with 1 Axes>"
      ]
     },
     "metadata": {}
    }
   ],
   "metadata": {}
  },
  {
   "cell_type": "code",
   "execution_count": null,
   "source": [],
   "outputs": [],
   "metadata": {}
  }
 ],
 "metadata": {
  "kernelspec": {
   "name": "python3",
   "display_name": "Python 3.9.6 64-bit"
  },
  "language_info": {
   "name": "python",
   "version": "3.9.6",
   "mimetype": "text/x-python",
   "codemirror_mode": {
    "name": "ipython",
    "version": 3
   },
   "pygments_lexer": "ipython3",
   "nbconvert_exporter": "python",
   "file_extension": ".py"
  },
  "pycharm": {
   "stem_cell": {
    "cell_type": "raw",
    "source": [],
    "metadata": {
     "collapsed": false
    }
   }
  },
  "interpreter": {
   "hash": "a6a3ba72a2da422538c3e849201d48428f58df8ff7aeefbcc3b1ea7a1f722b7d"
  }
 },
 "nbformat": 4,
 "nbformat_minor": 2
}