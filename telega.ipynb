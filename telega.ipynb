{
 "cells": [
  {
   "cell_type": "code",
   "execution_count": null,
   "source": [
    "\r\n",
    "import json\r\n",
    "import pandas as pd\r\n",
    "import matplotlib.pyplot as plt\r\n",
    "import numpy as np\r\n",
    "import datetime\r\n",
    "plt.style.use('seaborn-darkgrid')"
   ],
   "outputs": [],
   "metadata": {
    "collapsed": true,
    "pycharm": {
     "is_executing": false
    }
   }
  },
  {
   "cell_type": "code",
   "execution_count": null,
   "source": [
    "with open('result.json', 'r', encoding='utf-8') as input_file: # result.json is exported telegram file\r\n",
    "    x = json.load(input_file)\r\n",
    "    "
   ],
   "outputs": [],
   "metadata": {
    "collapsed": false,
    "pycharm": {
     "name": "#%%\n",
     "is_executing": false
    }
   }
  },
  {
   "cell_type": "code",
   "execution_count": null,
   "source": [],
   "outputs": [],
   "metadata": {}
  },
  {
   "cell_type": "code",
   "execution_count": null,
   "source": [
    "def get_data(input_file):\r\n",
    "    global data\r\n",
    "    data = x.get('messages')\r\n",
    "    data = pd.DataFrame(data)\r\n",
    "   \r\n",
    "    key_list = ['id', 'type', 'date', 'from', 'text',\r\n",
    "           'media_type', 'mime_type', 'duration_seconds', \r\n",
    "           'sticker_emoji', 'photo', 'edited', 'reply_to_message_id',\r\n",
    "          'forwarded_from',]\r\n",
    "    data = data[key_list]\r\n",
    "    \r\n",
    "    \r\n"
   ],
   "outputs": [],
   "metadata": {
    "collapsed": false,
    "pycharm": {
     "name": "#%%\n",
     "is_executing": false
    }
   }
  },
  {
   "cell_type": "code",
   "execution_count": null,
   "source": [
    "get_data(x)"
   ],
   "outputs": [],
   "metadata": {
    "collapsed": false,
    "pycharm": {
     "name": "#%%\n",
     "is_executing": false
    }
   }
  },
  {
   "cell_type": "code",
   "execution_count": null,
   "source": [
    "data_voice_length_stat = data.copy()\r\n",
    "data_from = data_voice_length_stat.groupby('from')\r\n",
    "msg_count = data_from['id'].count() # количество всех сообщений\r\n",
    "avg_voice_length = data_from['duration_seconds'].mean()\r\n",
    "\r\n",
    "\r\n",
    "data_voice = data[data['media_type'] == 'voice_message']\r\n",
    "data_voice = data_voice[['id', 'from', 'duration_seconds', 'date']]\r\n",
    "voice_data_from = data_voice.groupby('from')\r\n",
    "voice_msg_count = voice_data_from['id'].count()\r\n",
    "\r\n",
    "\r\n",
    "print('Количество сообщений', msg_count) \r\n",
    "print('---------------------------------')\r\n",
    "print('Cредняя длина голосовушек', avg_voice_length)\r\n",
    "print('---------------------------------')\r\n",
    "print('Количество голосовух', voice_msg_count)"
   ],
   "outputs": [],
   "metadata": {
    "collapsed": false,
    "pycharm": {
     "name": "#%%\n",
     "is_executing": false
    }
   }
  },
  {
   "cell_type": "code",
   "execution_count": null,
   "source": [
    "def msg_count_graph():\r\n",
    "    percentages = [round(100 * msg_count[0] / (msg_count[0] + msg_count[1]),1), round(100 * msg_count[1] / (msg_count[0] + msg_count[1]), 1)]\r\n",
    "    names = ['{}, ({}, {}%)'.format(msg_count.index.values[0], str(msg_count[0]), percentages[0]), '{}, ({}, {}%)'.format(msg_count.index.values[1], str(msg_count[1]), percentages[1])]\r\n",
    "    plt.rcParams['text.color'] = '#808080'\r\n",
    "    plt.pie(msg_count, labels=names)\r\n",
    "    plt.title('Количество всех сообщений', fontweight=\"bold\", color=\"#808080\")\r\n",
    "    plt.show()\r\n",
    "    \r\n",
    "def voice_msg_count_graph():\r\n",
    "    percentages = [round(100 * voice_msg_count[0] / (voice_msg_count[0] + voice_msg_count[1]),1), round(100 * voice_msg_count[1] / (voice_msg_count[0] + voice_msg_count[1]), 1)]\r\n",
    "    names = ['{}, ({}, {}%)'.format(voice_msg_count.index.values[0], str(voice_msg_count[0]), percentages[0]), '{}, ({}, {}%)'.format(voice_msg_count.index.values[1], str(voice_msg_count[1]), percentages[1])]\r\n",
    "    plt.rcParams['text.color'] = '#808080'\r\n",
    "    plt.pie(voice_msg_count, labels=names)\r\n",
    "    plt.title('Количество всех голосовух', fontweight=\"bold\", color=\"#808080\")\r\n",
    "    plt.show()\r\n",
    "    \r\n",
    "def avg_voice_length_graph():\r\n",
    "    names = ['{}, ({})'.format(avg_voice_length.index.values[0], str(round(avg_voice_length[0], 1))),'{}, ({})'.format(avg_voice_length.index.values[1], str(round(avg_voice_length[1],1)))]\r\n",
    "    plt.rcParams['text.color'] = '#808080'\r\n",
    "    height = [round(avg_voice_length[0], 1), round(avg_voice_length[1], 1)]\r\n",
    "    plt.bar(names,height, ec=\"black\")\r\n",
    "    plt.title('Средняя длина голосовух', fontweight=\"bold\", color=\"#808080\")\r\n",
    "    plt.show()\r\n",
    "   \r\n",
    "    "
   ],
   "outputs": [],
   "metadata": {
    "collapsed": false,
    "pycharm": {
     "name": "#%%\n",
     "is_executing": false
    }
   }
  },
  {
   "cell_type": "code",
   "execution_count": null,
   "source": [
    "msg_count_graph()\r\n",
    "avg_voice_length_graph()\r\n",
    "voice_msg_count_graph()\r\n",
    "\r\n",
    "#trash = pd.DataFrame(data_time.groupby(by='date').size())\r\n",
    "#pd.set_option('display.max_rows', 12)\r\n",
    "#trash"
   ],
   "outputs": [],
   "metadata": {
    "collapsed": false,
    "pycharm": {
     "name": "#%%\n",
     "is_executing": false
    }
   }
  },
  {
   "cell_type": "code",
   "execution_count": null,
   "source": [
    "def transform(data):\r\n",
    "    data['modified_date'] = data['date']\r\n",
    "    data['modified_date'] = pd.to_datetime(data['date']).dt.date\r\n",
    "    data['modified_time'] = pd.to_datetime(data['date']).dt.time\r\n",
    "    data['month_year'] = pd.to_datetime(data['date']).dt.to_period('M')\r\n",
    "    return data\r\n",
    "\r\n",
    "data = transform(data)\r\n"
   ],
   "outputs": [],
   "metadata": {}
  },
  {
   "cell_type": "code",
   "execution_count": null,
   "source": [
    "data.groupby(by='month_year').size()"
   ],
   "outputs": [],
   "metadata": {}
  },
  {
   "cell_type": "code",
   "execution_count": null,
   "source": [
    "data.head()"
   ],
   "outputs": [],
   "metadata": {}
  },
  {
   "cell_type": "code",
   "execution_count": null,
   "source": [
    "def seperated_messages(data, user_1, user_2, method): # modified_date or month_year #добавить проценты изменения\r\n",
    "    \r\n",
    "    user_1_table = data.loc[data['from'] == user_1]\r\n",
    "    user_1_table = pd.DataFrame(user_1_table.groupby(by=method).size())\r\n",
    "    user_2_table = data.loc[data['from'] == user_2]\r\n",
    "    user_2_table = pd.DataFrame(user_2_table.groupby(by=method).size())\r\n",
    "    result = pd.concat([user_1_table, user_2_table], axis=1)\r\n",
    "    result.columns = [user_1,user_2]\r\n",
    "    #result = result.replace(np.nan, 0)\r\n",
    "    return result\r\n",
    "pd.set_option('display.max_rows', 58)\r\n",
    "seperated_messages = seperated_messages(data, 'Danila', 'Бриена Тард', 'modified_date')\r\n",
    "seperated_messages"
   ],
   "outputs": [],
   "metadata": {
    "collapsed": false,
    "pycharm": {
     "name": "#%%\n",
     "is_executing": false
    }
   }
  },
  {
   "cell_type": "code",
   "execution_count": null,
   "source": [
    "plt.plot(seperated_messages)"
   ],
   "outputs": [],
   "metadata": {}
  },
  {
   "cell_type": "code",
   "execution_count": null,
   "source": [],
   "outputs": [],
   "metadata": {}
  }
 ],
 "metadata": {
  "kernelspec": {
   "name": "python3",
   "display_name": "Python 3.8.6 64-bit"
  },
  "language_info": {
   "codemirror_mode": {
    "name": "ipython",
    "version": 2
   },
   "file_extension": ".py",
   "mimetype": "text/x-python",
   "name": "python",
   "nbconvert_exporter": "python",
   "pygments_lexer": "ipython2",
   "version": "3.8.6"
  },
  "pycharm": {
   "stem_cell": {
    "cell_type": "raw",
    "source": [],
    "metadata": {
     "collapsed": false
    }
   }
  },
  "interpreter": {
   "hash": "52a44db780176c3adc9a7295891afb652e3e2cabc01efa2a0f522be4a3be52e8"
  }
 },
 "nbformat": 4,
 "nbformat_minor": 2
}